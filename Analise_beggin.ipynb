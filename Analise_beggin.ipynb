{
 "cells": [
  {
   "cell_type": "markdown",
   "metadata": {},
   "source": [
    "A proposta desse arquivo é começar. Serão passos simples a partir da evolução dos meus estudos. <br>\n",
    "Esse primeiro notebook conta com o material do curso do Quanta e algumas inspirações de alguns códigos analisados."
   ]
  },
  {
   "cell_type": "markdown",
   "metadata": {},
   "source": [
    "Passo 1:<br>\n",
    "Baixar a série da ação que vamos analisar de acordo com o curso temos dois modos:<br>\n",
    "    a. o modo dinâmico direto do site;<br>\n",
    "    b. lendo um arquivo .csv<br>"
   ]
  }
 ],
 "metadata": {
  "language_info": {
   "name": "python"
  },
  "orig_nbformat": 4
 },
 "nbformat": 4,
 "nbformat_minor": 2
}
